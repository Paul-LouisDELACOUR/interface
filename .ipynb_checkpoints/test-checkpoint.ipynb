{
 "cells": [
  {
   "cell_type": "code",
   "execution_count": 2,
   "metadata": {},
   "outputs": [],
   "source": [
    "import numpy as np\n",
    "import cx_Oracle\n",
    "import pandas as pd"
   ]
  },
  {
   "cell_type": "code",
   "execution_count": 3,
   "metadata": {},
   "outputs": [],
   "source": [
    "dsn_tns = cx_Oracle.makedsn('cs322-db.epfl.ch', '1521', sid='ORCLCDB')\n",
    "conn = cx_Oracle.connect(user=r'C##DB2019_G04', password='DB2019_G04', dsn=dsn_tns)"
   ]
  },
  {
   "cell_type": "code",
   "execution_count": 62,
   "metadata": {},
   "outputs": [
    {
     "name": "stdout",
     "output_type": "stream",
     "text": [
      "[['HOST_ID', 'HOST_URL', 'HOST_NAME', 'HOST_SINCE', 'HOST_ABOUT', 'HOST_RESPONSE_RATE', 'HOST_THUMBNAIL_URL', 'HOST_PICTURE_URL', 'NEIGHBORHOOD_ID', 'RESPONSE_TIME_ID'], ['LISTING_ID', 'LISTING_URL', 'LISTING_NAME', 'LISTING_PICTURE_URL', 'DAILY_PRICE', 'WEEKLY_PRICE', 'MONTHLY_PRICE', 'SECURITY_DEPOSIT', 'CLEANING_FEE', 'ACCOMMODATES', 'GUESTS_INCLUDED', 'EXTRA_PEOPLE', 'MINIMUM_NIGHTS', 'MAXIMUM_NIGHTS', 'SUMMARY', 'SPACE', 'DESCRIPTION', 'NEIGHBORHOOD_OVERVIEW', 'NOTES', 'TRANSIT', 'LISTING_ACCESS', 'INTERACTION', 'BATHROOMS', 'BEDROOMS', 'BEDS', 'SQUARE_FEET', 'LATITUDE', 'LONGITUDE', 'IS_BUSINESS_TRAVEL_READY', 'REQUIRE_GPV', 'REQUIRE_GUEST_PROFILE_PICTURE', 'HOUSE_RULES', 'REVIEW_SCORES_VALUE', 'REVIEW_SCORES_CHECKIN', 'REVIEW_SCORES_CLEANLINESS', 'REVIEW_SCORES_ACCURACY', 'REVIEW_SCORES_RATING', 'REVIEW_SCORES_LOCATION', 'REVIEW_SCORES_COMMUNICATION', 'HOST_ID', 'NEIGHBORHOOD_ID', 'BEDTYPE_ID', 'ROOMTYPE_ID', 'CANCELLATION_POLICY_ID', 'PROPERTY_TYPE_ID'], ['NEIGHBORHOOD_ID', 'NEIGHBORHOOD_NAME', 'CITY_ID'], ['AMENITY_ID', 'AMENITY_NAME'], ['BEDTYPE_ID', 'BEDTYPE_NAME'], ['CALENDAR_ID', 'CALENDAR_DATE'], ['CANCELLATION_POLICY_ID', 'CANCELLATION_POLICY_NAME'], ['CITY_ID', 'COUNTRY_CODE', 'CITY_NAME'], ['COUNTRY_CODE', 'COUNTRY'], ['HOST_VERIFICATIONS_ID', 'HOST_VERIFICATIONS'], ['LISTING_ID', 'AMENITY_ID'], ['PROPERTY_TYPE_ID', 'PROPERTY_TYPE'], ['LISTING_ID', 'CALENDAR_ID', 'AVAILABLE', 'PRICE'], ['RESPONSE_TIME_ID', 'RESPONSE_TIME'], ['REVIEWER_ID', 'REVIEWER_NAME'], ['LISTING_ID', 'REVIEWER_ID', 'REVIEW_DATE', 'COMMENTS'], ['ROOMTYPE_ID', 'ROOMTYPE_NAME'], ['HOST_ID', 'HOST_VERIFICATIONS_ID']]\n"
     ]
    },
    {
     "data": {
      "text/plain": [
       "'string_prefices = []\\nfor i in range(len(table_set)):\\n    string_where = \\' WHERE \\'\\n    for j in range(len(columns_list[i])):\\n        string_where += \\' REGEXP_LIKE(\\' + str(columns_list[i][j]) + \\', \\'\\' + str(value) + \\'\\', \\'im\\')\\'  \\n        if j < (len(columns_list[i]) - 1):\\n            string_where += \\' OR \\'\\n    string_prefix = \\'SELECT * FROM \\'+ table_set[i] + string_where + \\'FETCH FIRST 1 ROWS ONLY\\'\\n\\n    string_prefices.append(string_prefix)\\n\\nresults = []\\n\\n#e = conn.cursor()\\n#e.execute(\\'ALTER TABLE reviews MODIFY ( comments CLOB )\\')\\nfor i in string_prefices:\\n    c = conn.cursor()\\n    c.execute(i)   \\n    df = pd.DataFrame.from_records(list(c))\\n    column_names = [row[0] for row in c.description]\\n    columns = [{\"id\" : i, \"name\" : column_names[i]} for i in range(len(column_names))]\\n    results.append(df.to_dict(\\'records\\'))\\n    results.append(columns)'"
      ]
     },
     "execution_count": 62,
     "metadata": {},
     "output_type": "execute_result"
    }
   ],
   "source": [
    "table_set = ['host', 'listing', 'neighborhood', 'amenity_equipment', 'bed_type',\n",
    "            'calendar', 'cancellation_policy', 'city', 'country', 'host_verifications',\n",
    "            'is_equiped_with', 'property_type', 'reserved_on' , 'response_time',\n",
    "            'reviewer', 'reviews', 'room_type', 'verifies']\n",
    "\n",
    "dsn_tns = cx_Oracle.makedsn('cs322-db.epfl.ch', '1521', sid='ORCLCDB')\n",
    "conn = cx_Oracle.connect(user=r'C##DB2019_G04', password='DB2019_G04', dsn=dsn_tns)\n",
    "value = 'abc'\n",
    "columns_list = []\n",
    "for i in table_set:\n",
    "    cmd = 'SELECT * FROM ' + i + ' WHERE 1 = 2'\n",
    "    c = conn.cursor()\n",
    "    c.execute(cmd)\n",
    "    columns = [row[0] for row in c.description]\n",
    "    columns_list.append(columns)\n",
    "\n",
    "print(columns_list)\n",
    "\n",
    "'''string_prefices = []\n",
    "for i in range(len(table_set)):\n",
    "    string_where = ' WHERE '\n",
    "    for j in range(len(columns_list[i])):\n",
    "        string_where += ' REGEXP_LIKE(' + str(columns_list[i][j]) + ', \\'' + str(value) + '\\', \\'im\\')'  \n",
    "        if j < (len(columns_list[i]) - 1):\n",
    "            string_where += ' OR '\n",
    "    string_prefix = 'SELECT * FROM '+ table_set[i] + string_where + 'FETCH FIRST 1 ROWS ONLY'\n",
    "\n",
    "    string_prefices.append(string_prefix)\n",
    "\n",
    "results = []\n",
    "\n",
    "#e = conn.cursor()\n",
    "#e.execute('ALTER TABLE reviews MODIFY ( comments CLOB )')\n",
    "for i in string_prefices:\n",
    "    c = conn.cursor()\n",
    "    c.execute(i)   \n",
    "    df = pd.DataFrame.from_records(list(c))\n",
    "    column_names = [row[0] for row in c.description]\n",
    "    columns = [{\"id\" : i, \"name\" : column_names[i]} for i in range(len(column_names))]\n",
    "    results.append(df.to_dict('records'))\n",
    "    results.append(columns)'''"
   ]
  },
  {
   "cell_type": "code",
   "execution_count": 11,
   "metadata": {},
   "outputs": [
    {
     "name": "stdout",
     "output_type": "stream",
     "text": [
      "<class 'list'>\n"
     ]
    }
   ],
   "source": [
    "print(type(results[3]))"
   ]
  },
  {
   "cell_type": "code",
   "execution_count": 4,
   "metadata": {},
   "outputs": [],
   "source": [
    "cursor = conn.cursor()"
   ]
  },
  {
   "cell_type": "code",
   "execution_count": 61,
   "metadata": {},
   "outputs": [
    {
     "data": {
      "text/html": [
       "<div>\n",
       "<style scoped>\n",
       "    .dataframe tbody tr th:only-of-type {\n",
       "        vertical-align: middle;\n",
       "    }\n",
       "\n",
       "    .dataframe tbody tr th {\n",
       "        vertical-align: top;\n",
       "    }\n",
       "\n",
       "    .dataframe thead th {\n",
       "        text-align: right;\n",
       "    }\n",
       "</style>\n",
       "<table border=\"1\" class=\"dataframe\">\n",
       "  <thead>\n",
       "    <tr style=\"text-align: right;\">\n",
       "      <th></th>\n",
       "      <th>0</th>\n",
       "      <th>1</th>\n",
       "      <th>2</th>\n",
       "      <th>3</th>\n",
       "      <th>4</th>\n",
       "      <th>5</th>\n",
       "      <th>6</th>\n",
       "      <th>7</th>\n",
       "      <th>8</th>\n",
       "      <th>9</th>\n",
       "    </tr>\n",
       "  </thead>\n",
       "  <tbody>\n",
       "    <tr>\n",
       "      <th>0</th>\n",
       "      <td>2217</td>\n",
       "      <td>https://www.airbnb.com/users/show/2217</td>\n",
       "      <td>ian</td>\n",
       "      <td>2008-08-18</td>\n",
       "      <td>believe in sharing economy.</td>\n",
       "      <td>96.0</td>\n",
       "      <td>https://a0.muscache.com/im/pictures/21428a22-4...</td>\n",
       "      <td>https://a0.muscache.com/im/pictures/21428a22-4...</td>\n",
       "      <td>74</td>\n",
       "      <td>1</td>\n",
       "    </tr>\n",
       "  </tbody>\n",
       "</table>\n",
       "</div>"
      ],
      "text/plain": [
       "      0                                       1    2          3  \\\n",
       "0  2217  https://www.airbnb.com/users/show/2217  ian 2008-08-18   \n",
       "\n",
       "                             4     5  \\\n",
       "0  believe in sharing economy.  96.0   \n",
       "\n",
       "                                                   6  \\\n",
       "0  https://a0.muscache.com/im/pictures/21428a22-4...   \n",
       "\n",
       "                                                   7   8  9  \n",
       "0  https://a0.muscache.com/im/pictures/21428a22-4...  74  1  "
      ]
     },
     "execution_count": 61,
     "metadata": {},
     "output_type": "execute_result"
    }
   ],
   "source": [
    "pd.DataFrame.from_records(list(cursor.execute('SELECT * from HOST ORDER BY host_id FETCH FIRST 1 ROWS ONLY')))"
   ]
  },
  {
   "cell_type": "code",
   "execution_count": 14,
   "metadata": {},
   "outputs": [],
   "source": [
    "dsn_tns = cx_Oracle.makedsn('cs322-db.epfl.ch', '1521', sid='ORCLCDB')\n",
    "conn = cx_Oracle.connect(user=r'C##DB2019_G04', password='DB2019_G04', dsn=dsn_tns)\n",
    "city = 'berlin'\n",
    "\n",
    "string_prefix = ''' \n",
    "    SELECT up.neighborhood_name, up.neighborhood_id, up.count1 / down.count1 as ratio\n",
    "FROM (SELECT NE.neighborhood_name, NE.neighborhood_id, COUNT(DISTINCT LI.listing_id) as count1\n",
    "FROM CANCELLATION_POLICY CA, LISTING LI, NEIGHBORHOOD NE, CITY CI\n",
    "WHERE LI.cancellation_policy_id = CA.cancellation_policy_id AND LI.neighborhood_id = NE.neighborhood_id AND NE.city_id = CI.city_id AND CA.cancellation_policy_name = 'strict_14_with_grace_period' AND CI.city_name = \\'{0}\\'\n",
    "GROUP BY NE.neighborhood_name, NE.neighborhood_id) up,\n",
    "(SELECT NE.neighborhood_name, NE.neighborhood_id, COUNT(DISTINCT LI.listing_id) as count1\n",
    "FROM LISTING LI, NEIGHBORHOOD NE, CITY CI\n",
    "WHERE LI.neighborhood_id = NE.neighborhood_id AND CI.CITY_NAME = \\'{0}\\'\n",
    "GROUP BY NE.neighborhood_name, NE.neighborhood_id) down\n",
    "WHERE up.neighborhood_id = down.neighborhood_id AND up.count1 >= 0.05 * down.count1\n",
    "    '''.format(city)\n",
    "\n",
    "#return string_prefix\n",
    "c = conn.cursor()\n",
    "c.execute(string_prefix)\n",
    "\n",
    "df = pd.DataFrame.from_records(list(c))\n",
    "columns = [\n",
    "        {\"id\": 0, \"name\": \"neighborhood_name\"},\n",
    "        {\"id\": 1, \"name\": \"neighborhood_id\"},\n",
    "        {\"id\": 2, \"name\": \"ratio\"},\n",
    "        ]\n"
   ]
  },
  {
   "cell_type": "code",
   "execution_count": 23,
   "metadata": {},
   "outputs": [
    {
     "name": "stdout",
     "output_type": "stream",
     "text": [
      "[{0: 'k??penick', 1: 84, 2: 0.24390243902439024}, {0: 'charlottenburg', 1: 72, 2: 0.31511254019292606}, {0: 'lichterfelde', 1: 88, 2: 0.22077922077922077}, {0: 'siemensstadt', 1: 116, 2: 0.42857142857142855}, {0: 'kladow', 1: 134, 2: 0.21428571428571427}, {0: 'wittenau', 1: 93, 2: 0.17647058823529413}, {0: 'spandau', 1: 141, 2: 0.8148148148148148}, {0: 'potsdamer platz', 1: 80, 2: 0.2}, {0: 'schm??ckwitz', 1: 107, 2: 0.7142857142857143}, {0: 'nikolassee', 1: 106, 2: 0.14285714285714285}, {0: 'haselhorst', 1: 154, 2: 1.0}, {0: 'kreuzberg', 1: 66, 2: 0.2867647058823529}, {0: 'altglienicke', 1: 86, 2: 0.29411764705882354}, {0: 'hansaviertel', 1: 103, 2: 0.24324324324324326}, {0: 'zehlendorf', 1: 89, 2: 0.31666666666666665}, {0: 'alt-hohensch??nhausen', 1: 69, 2: 0.2222222222222222}, {0: 'lankwitz', 1: 124, 2: 0.21052631578947367}, {0: 'wannsee', 1: 117, 2: 0.3333333333333333}, {0: 'hermsdorf', 1: 102, 2: 0.5}, {0: 'heiligensee', 1: 145, 2: 0.3}, {0: 'marienfelde', 1: 136, 2: 0.14285714285714285}, {0: 'rahnsdorf', 1: 111, 2: 0.24}, {0: 'franz??sisch buchholz', 1: 123, 2: 0.10526315789473684}, {0: 'buch', 1: 122, 2: 0.14285714285714285}, {0: 'mariendorf', 1: 91, 2: 0.4}, {0: 'dahlem', 1: 129, 2: 0.47368421052631576}, {0: 'buckow', 1: 146, 2: 0.6}, {0: 'karlshorst', 1: 83, 2: 0.2894736842105263}, {0: 'tegel', 1: 140, 2: 0.13636363636363635}, {0: 'tempelhof', 1: 90, 2: 0.2559241706161137}, {0: 'grunewald', 1: 98, 2: 0.25}, {0: 'konradsh??he', 1: 151, 2: 0.5}, {0: 'heinersdorf', 1: 139, 2: 0.3333333333333333}, {0: 'mitte', 1: 74, 2: 0.423841059602649}, {0: 'wedding', 1: 73, 2: 0.2302025782688766}, {0: 'niedersch??neweide', 1: 126, 2: 0.2857142857142857}, {0: 'lichtenberg', 1: 92, 2: 0.1721311475409836}, {0: 'friedrichshagen', 1: 105, 2: 0.23809523809523808}, {0: 'obersch??neweide', 1: 121, 2: 0.13953488372093023}, {0: 'gropiusstadt', 1: 120, 2: 0.1111111111111111}, {0: 'frohnau', 1: 147, 2: 0.16666666666666666}, {0: 'bohnsdorf', 1: 96, 2: 0.4}, {0: 'neu-hohensch??nhausen', 1: 133, 2: 0.2857142857142857}, {0: 'falkenhagener feld', 1: 138, 2: 0.25}, {0: 'moabit', 1: 70, 2: 0.27303754266211605}, {0: 'sch??neberg', 1: 71, 2: 0.3105076741440378}, {0: 'neuk??lln', 1: 75, 2: 0.21744471744471744}, {0: 'baumschulenweg', 1: 110, 2: 0.18333333333333332}, {0: 'marzahn', 1: 95, 2: 0.23076923076923078}, {0: 'westend', 1: 85, 2: 0.2857142857142857}, {0: 'pankow', 1: 76, 2: 0.3113207547169811}, {0: 'charlottenburg-nord', 1: 118, 2: 0.5}, {0: 'blankenburg', 1: 143, 2: 0.42857142857142855}, {0: 'friedrichsfelde', 1: 94, 2: 0.22448979591836735}, {0: 'britz', 1: 112, 2: 0.16666666666666666}, {0: 'rudow', 1: 108, 2: 0.4230769230769231}, {0: 'kaulsdorf', 1: 100, 2: 0.42857142857142855}, {0: 'adlershof', 1: 150, 2: 0.21428571428571427}, {0: 'wilhelmstadt', 1: 128, 2: 0.2857142857142857}, {0: 'hellersdorf', 1: 127, 2: 0.13333333333333333}, {0: 'biesdorf', 1: 97, 2: 0.07692307692307693}, {0: 'wilhelmsruh', 1: 148, 2: 0.75}, {0: 'm??ggelheim', 1: 153, 2: 0.5}, {0: 'friedrichshain', 1: 67, 2: 0.2474827768945416}, {0: 'reinickendorf', 1: 82, 2: 0.26785714285714285}, {0: 'prenzlauer berg', 1: 68, 2: 0.3265020959478342}, {0: 'halensee', 1: 87, 2: 0.2391304347826087}, {0: 'tiergarten', 1: 104, 2: 0.43410852713178294}, {0: 'friedenau', 1: 113, 2: 0.3246753246753247}, {0: 'wei??ensee', 1: 109, 2: 0.2569444444444444}, {0: 'm??rkisches viertel', 1: 135, 2: 0.25}, {0: 'wilmersdorf', 1: 77, 2: 0.3819628647214854}, {0: 'rummelsburg', 1: 114, 2: 0.2872340425531915}, {0: 'alt-treptow', 1: 78, 2: 0.25210084033613445}, {0: 'fennpfuhl', 1: 99, 2: 0.16666666666666666}, {0: 'steglitz', 1: 79, 2: 0.24107142857142858}, {0: 'pl??nterwald', 1: 119, 2: 0.28205128205128205}, {0: 'johannisthal', 1: 115, 2: 0.29411764705882354}, {0: 'niedersch??nhausen', 1: 125, 2: 0.24444444444444444}, {0: 'schmargendorf', 1: 81, 2: 0.17391304347826086}, {0: 'lichtenrade', 1: 132, 2: 0.2857142857142857}, {0: 'karow', 1: 131, 2: 0.18181818181818182}, {0: 'gatow', 1: 130, 2: 0.5}]\n"
     ]
    }
   ],
   "source": [
    "print(df.to_dict('records'))"
   ]
  },
  {
   "cell_type": "code",
   "execution_count": 91,
   "metadata": {},
   "outputs": [],
   "source": [
    "columns_list = []\n",
    "for i in table_set:\n",
    "    cmd = 'SELECT * FROM ' + i + ' WHERE 1 = 2'\n",
    "    c = conn.cursor()\n",
    "    c.execute(cmd)\n",
    "    columns = [row[0] for row in c.description]\n",
    "    columns_list.append(columns)\n",
    "\n",
    "string_prefices = []\n",
    "for i in range(len(table_set)):\n",
    "    string_where = ' WHERE '\n",
    "    for j in range(len(columns_list[i])):\n",
    "        string_where += ' REGEXP_LIKE(' + str(columns_list[i][j]) + ', \\'' + str(value) + '\\', \\'im\\')'  \n",
    "        if j < (len(columns_list[i]) - 1):\n",
    "            string_where += ' OR '\n",
    "    string_prefix = 'SELECT * FROM '+ table_set[i] + string_where + 'FETCH FIRST 1 ROWS ONLY'\n",
    "\n",
    "    string_prefices.append(string_prefix)\n",
    "\n",
    "results = []\n",
    "\n",
    "for i in range(len(table_set)):\n",
    "    string_prefix = string_prefices[i]\n",
    "    c = conn.cursor()\n",
    "    c.execute('SELECT * from REVIEWS FETCH FIRST 1 ROWS ONLY')\n",
    "    l = list(c)\n",
    "    if table_set[i] == 'host' :\n",
    "        tu = list(l[0])\n",
    "        tu.pop(0)\n",
    "        l[0] = tuple(tu)\n",
    "    if table_set[i] == 'reviews' :\n",
    "        tu = list(l[0])\n",
    "        tu.pop(3)\n",
    "        l[0] = tuple(tu)\n",
    "    df = pd.DataFrame.from_records(l)\n",
    "    column_names = [row[0] for row in c.description if row[0] != 'HOST_ABOUT' and row[0] != 'COMMENTS']\n",
    "    columns = [{\"id\" : i, \"name\" : column_names[i]} for i in range(len(column_names))]\n",
    "    results.append(df.to_dict('records'))\n",
    "    results.append(columns)"
   ]
  },
  {
   "cell_type": "code",
   "execution_count": 98,
   "metadata": {},
   "outputs": [
    {
     "name": "stdout",
     "output_type": "stream",
     "text": [
      "['https://www.airbnb.com/users/show/47267274', 'melissa', datetime.datetime(2015, 10, 23, 0, 0), None, None, 'https://a0.muscache.com/im/pictures/e5a05656-cc69-4911-a2e7-ccabc5447162.jpg?aki_policy=profile_small', 'https://a0.muscache.com/im/pictures/e5a05656-cc69-4911-a2e7-ccabc5447162.jpg?aki_policy=profile_x_medium', 7, 3]\n",
      "[('https://www.airbnb.com/users/show/47267274', 'melissa', datetime.datetime(2015, 10, 23, 0, 0), None, None, 'https://a0.muscache.com/im/pictures/e5a05656-cc69-4911-a2e7-ccabc5447162.jpg?aki_policy=profile_small', 'https://a0.muscache.com/im/pictures/e5a05656-cc69-4911-a2e7-ccabc5447162.jpg?aki_policy=profile_x_medium', 7, 3)]\n",
      "a\n",
      "('https://www.airbnb.com/users/show/47267274', 'melissa', datetime.datetime(2015, 10, 23, 0, 0), None, None, 'https://a0.muscache.com/im/pictures/e5a05656-cc69-4911-a2e7-ccabc5447162.jpg?aki_policy=profile_small', 'https://a0.muscache.com/im/pictures/e5a05656-cc69-4911-a2e7-ccabc5447162.jpg?aki_policy=profile_x_medium', 7, 3)\n",
      "[{'id': 0, 'name': 'HOST_ID'}, {'id': 1, 'name': 'HOST_URL'}, {'id': 2, 'name': 'HOST_NAME'}, {'id': 3, 'name': 'HOST_SINCE'}, {'id': 4, 'name': 'HOST_RESPONSE_RATE'}, {'id': 5, 'name': 'HOST_THUMBNAIL_URL'}, {'id': 6, 'name': 'HOST_PICTURE_URL'}, {'id': 7, 'name': 'NEIGHBORHOOD_ID'}, {'id': 8, 'name': 'RESPONSE_TIME_ID'}]\n",
      "(874029, 'https://www.airbnb.com/rooms/874029', 'b&b in a bright room, madrid!+wiffi', 'https://a0.muscache.com/im/pictures/13168810/ba681d35_original.jpg?aki_policy=large', 30.0, 264.0, 802.0, 0.0, 10.0, 2, 1, 5, 2, 30, 'os ofrezco una habitaci??n privada con cuarto de ba??o privado. son dos camas individuales. pod??is usar la cocina, y las terrazas cuando hace buen tiempo, tambi??n la piscina. tiene wiffi, una mesa de trabajo y una buena silla, un buen armario con perchas y sobre todo mucha luz, calefacci??n y ventilador. autobuses: 146 a callao, centro de madrid a 4 minutos. autob??s 114 a avda. de america tambi??n a 4 minutos. metro l?-nea 5, paradas suanzes y/o ciudad lineal a 10 minutos andando desde mi casa.', '\"i would like to introduce my home. ita??s a very nice place where you can spend several days in a bright room with a terrace, on which i have a little organic vegetable garden, to please the eyes and palate (when the season is right, of course). the room can be rented by one or two people. there are two beds, a full bed and a trundle bed that rolls out. there is a desk and a fast wi-fi connection. there is a private newly-refurbished bathroom with shower. the room is spotless, and neat as a pin.  bed linen and towels are provided,  of course. you can use the living room and the terraces when the weather was fine. in summer you have free use of the swimming pool. i provide a telephone to be used with your pre-paid card.  the home is a ten-minute bus ride from the airport, a three-minute drive from barcelona road and a 25 minute drive from the center of madrid. the house is near two bus-lines.   the metro station is 10 minute walk from the flat and the subway line goes directly to the cen', '\"i would like to introduce my home. ita??s a very nice place where you can spend several days in a bright room with a terrace, on which i have a little organic vegetable garden, to please the eyes and palate (when the season is right, of course). the room can be rented by one or two people. there are two beds, a full bed and a trundle bed that rolls out. there is a desk and a fast wi-fi connection. there is a private newly-refurbished bathroom with shower. the room is spotless, and neat as a pin.  bed linen and towels are provided,  of course. you can use the living room and the terraces when the weather was fine. in summer you have free use of the swimming pool. i provide a telephone to be used with your pre-paid card.  the home is a ten-minute bus ride from the airport, a three-minute drive from barcelona road and a 25 minute drive from the center of madrid. the house is near two bus-lines.   the metro station is 10 minute walk from the flat and the subway line goes directly to the cen', 'el barrio, y el bloque de vecinos es muy tranquilo, por lo que os agradezco que conserv??is este estilo de vida, colaborando.', 'Reciclo, y me gusta que los hu??spedes lo hagan.', 'dos autobuses, 146 al centro de la cuidad, y 114 a la avenida de america conecta con el metro l?-neas, 9 , 7, 6 y 4. est?! cerca del aeropuerto: autob??s 200 hasta la parada 5348 (peonias-gta.yucatan) y en esa parada o al lado tomar el 114 hasta parada 3112 (diario abc). el autob??s n27 es un autob??s expr??s que os deja en plaza de cibeles en 25 minutos, y desde ah?- hasta 23,30h coged el autob??s 114, y si por la noche coged  el autob??s n4 os dejar?! en la parada en la parada 3111 (esquina alegria de oria) andando 4 minutos al portal de mi casa.', None, None, 1, 1, 2, None, 40.446183970623885, -3.6350160303559, 'f', 'f', 'f', 'espero que disfruteis de mi casa como yo misma, por eso es muy importante que la cuideis como se merece, no es ruidosa, y a mi no me gusta el ruido,. la cocina pordreis usarla, siempre dejandola limpia, y tambi??n tendre?-s un sitio en el frigor?-fico para vuestros alimentos. no admito personas que puedan venir bebidas. no se puede fumar', 10, 10, 10, 10, 100, 10, 10, 4603165, 8, 2, 2, 2, 1)\n",
      "[{'id': 0, 'name': 'LISTING_ID'}, {'id': 1, 'name': 'LISTING_URL'}, {'id': 2, 'name': 'LISTING_NAME'}, {'id': 3, 'name': 'LISTING_PICTURE_URL'}, {'id': 4, 'name': 'DAILY_PRICE'}, {'id': 5, 'name': 'WEEKLY_PRICE'}, {'id': 6, 'name': 'MONTHLY_PRICE'}, {'id': 7, 'name': 'SECURITY_DEPOSIT'}, {'id': 8, 'name': 'CLEANING_FEE'}, {'id': 9, 'name': 'ACCOMMODATES'}, {'id': 10, 'name': 'GUESTS_INCLUDED'}, {'id': 11, 'name': 'EXTRA_PEOPLE'}, {'id': 12, 'name': 'MINIMUM_NIGHTS'}, {'id': 13, 'name': 'MAXIMUM_NIGHTS'}, {'id': 14, 'name': 'SUMMARY'}, {'id': 15, 'name': 'SPACE'}, {'id': 16, 'name': 'DESCRIPTION'}, {'id': 17, 'name': 'NEIGHBORHOOD_OVERVIEW'}, {'id': 18, 'name': 'NOTES'}, {'id': 19, 'name': 'TRANSIT'}, {'id': 20, 'name': 'LISTING_ACCESS'}, {'id': 21, 'name': 'INTERACTION'}, {'id': 22, 'name': 'BATHROOMS'}, {'id': 23, 'name': 'BEDROOMS'}, {'id': 24, 'name': 'BEDS'}, {'id': 25, 'name': 'SQUARE_FEET'}, {'id': 26, 'name': 'LATITUDE'}, {'id': 27, 'name': 'LONGITUDE'}, {'id': 28, 'name': 'IS_BUSINESS_TRAVEL_READY'}, {'id': 29, 'name': 'REQUIRE_GPV'}, {'id': 30, 'name': 'REQUIRE_GUEST_PROFILE_PICTURE'}, {'id': 31, 'name': 'HOUSE_RULES'}, {'id': 32, 'name': 'REVIEW_SCORES_VALUE'}, {'id': 33, 'name': 'REVIEW_SCORES_CHECKIN'}, {'id': 34, 'name': 'REVIEW_SCORES_CLEANLINESS'}, {'id': 35, 'name': 'REVIEW_SCORES_ACCURACY'}, {'id': 36, 'name': 'REVIEW_SCORES_RATING'}, {'id': 37, 'name': 'REVIEW_SCORES_LOCATION'}, {'id': 38, 'name': 'REVIEW_SCORES_COMMUNICATION'}, {'id': 39, 'name': 'HOST_ID'}, {'id': 40, 'name': 'NEIGHBORHOOD_ID'}, {'id': 41, 'name': 'BEDTYPE_ID'}, {'id': 42, 'name': 'ROOMTYPE_ID'}, {'id': 43, 'name': 'CANCELLATION_POLICY_ID'}, {'id': 44, 'name': 'PROPERTY_TYPE_ID'}]\n"
     ]
    },
    {
     "ename": "IndexError",
     "evalue": "list index out of range",
     "output_type": "error",
     "traceback": [
      "\u001b[0;31m---------------------------------------------------------------------------\u001b[0m",
      "\u001b[0;31mIndexError\u001b[0m                                Traceback (most recent call last)",
      "\u001b[0;32m<ipython-input-98-2d0c7aaf2ec2>\u001b[0m in \u001b[0;36m<module>\u001b[0;34m\u001b[0m\n\u001b[1;32m     17\u001b[0m         \u001b[0mtu\u001b[0m\u001b[0;34m.\u001b[0m\u001b[0mpop\u001b[0m\u001b[0;34m(\u001b[0m\u001b[0;36m3\u001b[0m\u001b[0;34m)\u001b[0m\u001b[0;34m\u001b[0m\u001b[0;34m\u001b[0m\u001b[0m\n\u001b[1;32m     18\u001b[0m         \u001b[0ml\u001b[0m\u001b[0;34m[\u001b[0m\u001b[0;36m0\u001b[0m\u001b[0;34m]\u001b[0m \u001b[0;34m=\u001b[0m \u001b[0mtuple\u001b[0m\u001b[0;34m(\u001b[0m\u001b[0mtu\u001b[0m\u001b[0;34m)\u001b[0m\u001b[0;34m\u001b[0m\u001b[0;34m\u001b[0m\u001b[0m\n\u001b[0;32m---> 19\u001b[0;31m     \u001b[0mprint\u001b[0m\u001b[0;34m(\u001b[0m\u001b[0ml\u001b[0m\u001b[0;34m[\u001b[0m\u001b[0;36m0\u001b[0m\u001b[0;34m]\u001b[0m\u001b[0;34m)\u001b[0m\u001b[0;34m\u001b[0m\u001b[0;34m\u001b[0m\u001b[0m\n\u001b[0m\u001b[1;32m     20\u001b[0m     \u001b[0mdf\u001b[0m \u001b[0;34m=\u001b[0m \u001b[0mpd\u001b[0m\u001b[0;34m.\u001b[0m\u001b[0mDataFrame\u001b[0m\u001b[0;34m.\u001b[0m\u001b[0mfrom_records\u001b[0m\u001b[0;34m(\u001b[0m\u001b[0ml\u001b[0m\u001b[0;34m)\u001b[0m\u001b[0;34m\u001b[0m\u001b[0;34m\u001b[0m\u001b[0m\n\u001b[1;32m     21\u001b[0m     \u001b[0mcolumn_names\u001b[0m \u001b[0;34m=\u001b[0m \u001b[0;34m[\u001b[0m\u001b[0mrow\u001b[0m\u001b[0;34m[\u001b[0m\u001b[0;36m0\u001b[0m\u001b[0;34m]\u001b[0m \u001b[0;32mfor\u001b[0m \u001b[0mrow\u001b[0m \u001b[0;32min\u001b[0m \u001b[0mc\u001b[0m\u001b[0;34m.\u001b[0m\u001b[0mdescription\u001b[0m \u001b[0;32mif\u001b[0m \u001b[0;34m(\u001b[0m\u001b[0mrow\u001b[0m\u001b[0;34m[\u001b[0m\u001b[0;36m0\u001b[0m\u001b[0;34m]\u001b[0m \u001b[0;34m!=\u001b[0m \u001b[0;34m'HOST_ABOUT'\u001b[0m \u001b[0;32mand\u001b[0m \u001b[0mrow\u001b[0m\u001b[0;34m[\u001b[0m\u001b[0;36m0\u001b[0m\u001b[0;34m]\u001b[0m \u001b[0;34m!=\u001b[0m \u001b[0;34m'COMMENTS'\u001b[0m\u001b[0;34m)\u001b[0m\u001b[0;34m]\u001b[0m\u001b[0;34m\u001b[0m\u001b[0;34m\u001b[0m\u001b[0m\n",
      "\u001b[0;31mIndexError\u001b[0m: list index out of range"
     ]
    }
   ],
   "source": [
    "results = []\n",
    "\n",
    "for i in range(len(table_set)):\n",
    "    string_prefix = string_prefices[i]\n",
    "    c = conn.cursor()\n",
    "    c.execute(string_prefix)\n",
    "    l = list(c)\n",
    "    if table_set[i] == 'host' :\n",
    "        tu = list(l[0])\n",
    "        tu.pop(4)\n",
    "        l[0] = tuple(tu)\n",
    "    if table_set[i] == 'reviews' :\n",
    "        tu = list(l[0])\n",
    "        tu.pop(3)\n",
    "        l[0] = tuple(tu)\n",
    "    df = pd.DataFrame.from_records(l)\n",
    "    column_names = [row[0] for row in c.description if (row[0] != 'HOST_ABOUT' and row[0] != 'COMMENTS')]\n",
    "    columns = [{\"id\" : i, \"name\" : column_names[i]} for i in range(len(column_names))]\n",
    "    print(columns)\n",
    "    results.append(df.to_dict('records'))\n",
    "    results.append(columns)"
   ]
  },
  {
   "cell_type": "code",
   "execution_count": null,
   "metadata": {},
   "outputs": [],
   "source": []
  }
 ],
 "metadata": {
  "kernelspec": {
   "display_name": "Python 3",
   "language": "python",
   "name": "python3"
  },
  "language_info": {
   "codemirror_mode": {
    "name": "ipython",
    "version": 3
   },
   "file_extension": ".py",
   "mimetype": "text/x-python",
   "name": "python",
   "nbconvert_exporter": "python",
   "pygments_lexer": "ipython3",
   "version": "3.7.3"
  }
 },
 "nbformat": 4,
 "nbformat_minor": 2
}
