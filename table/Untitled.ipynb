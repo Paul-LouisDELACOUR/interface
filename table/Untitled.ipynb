{
 "cells": [
  {
   "cell_type": "code",
   "execution_count": 8,
   "metadata": {},
   "outputs": [],
   "source": [
    "import pandas as pd"
   ]
  },
  {
   "cell_type": "code",
   "execution_count": 72,
   "metadata": {},
   "outputs": [],
   "source": [
    "madrid_n =pd.read_csv('madrid.csv',sep=',')"
   ]
  },
  {
   "cell_type": "code",
   "execution_count": 70,
   "metadata": {},
   "outputs": [
    {
     "name": "stdout",
     "output_type": "stream",
     "text": [
      "'10'\n"
     ]
    }
   ],
   "source": [
    "#print(madrid_n)\n",
    "a = str(10)\n",
    "print('\\'{}\\''.format(a))"
   ]
  },
  {
   "cell_type": "code",
   "execution_count": 78,
   "metadata": {},
   "outputs": [
    {
     "name": "stdout",
     "output_type": "stream",
     "text": [
      "<class 'str'>\n"
     ]
    }
   ],
   "source": [
    "p"
   ]
  },
  {
   "cell_type": "code",
   "execution_count": 82,
   "metadata": {},
   "outputs": [
    {
     "name": "stdout",
     "output_type": "stream",
     "text": [
      "[{'label': 'embajadores', 'value': '1'}, {'label': 'aluche', 'value': '2'}, {'label': 'malasaña', 'value': '3'}, {'label': 'justicia', 'value': '4'}, {'label': 'legazpi', 'value': '5'}, {'label': 'sol', 'value': '6'}, {'label': 'palos do moguer', 'value': '7'}, {'label': 'san blas', 'value': '8'}, {'label': 'palacio', 'value': '9'}, {'label': 'cortes', 'value': '10'}, {'label': 'la latina', 'value': '11'}, {'label': 'recoletos', 'value': '12'}, {'label': 'cuatro caminos', 'value': '13'}, {'label': 'ciudad lineal', 'value': '14'}, {'label': 'almagro', 'value': '15'}, {'label': 'arapiles', 'value': '16'}, {'label': 'fuencarral-el pardo', 'value': '17'}, {'label': 'villaverde', 'value': '18'}, {'label': 'carabanchel', 'value': '19'}, {'label': 'hortaleza', 'value': '20'}, {'label': 'goya', 'value': '21'}, {'label': 'pacifico', 'value': '22'}, {'label': 'ciudad jardin', 'value': '23'}, {'label': 'almenara', 'value': '24'}, {'label': 'fuente del berro', 'value': '25'}, {'label': 'el tréntaiseis', 'value': '26'}, {'label': 'prosperidad', 'value': '27'}, {'label': 'acacias', 'value': '28'}, {'label': 'estrella', 'value': '29'}, {'label': 'el viso', 'value': '30'}, {'label': 'valdeacederas', 'value': '31'}, {'label': 'hispanoamérica', 'value': '32'}, {'label': 'argüelles', 'value': '33'}, {'label': 'lista', 'value': '34'}, {'label': 'trafalgar', 'value': '35'}, {'label': 'moratalaz', 'value': '36'}, {'label': 'jerónimos', 'value': '37'}, {'label': 'chamberí', 'value': '38'}, {'label': 'delicias', 'value': '39'}, {'label': 'gaztambide', 'value': '40'}, {'label': 'vallehermosa', 'value': '41'}, {'label': 'ibiza', 'value': '42'}, {'label': 'villa de vallecas', 'value': '43'}, {'label': 'rios rosas', 'value': '44'}, {'label': 'barajas', 'value': '45'}, {'label': 'guindalera', 'value': '46'}, {'label': 'usera', 'value': '47'}, {'label': 'retiro', 'value': '48'}, {'label': 'castellana', 'value': '49'}, {'label': 'berruguete', 'value': '50'}, {'label': 'puente de vallecas', 'value': '51'}, {'label': 'centro', 'value': '52'}, {'label': 'arganzuela', 'value': '53'}, {'label': 'adelfas', 'value': '54'}, {'label': 'castillejos', 'value': '55'}, {'label': 'imperial', 'value': '56'}, {'label': 'tetuán', 'value': '57'}, {'label': 'moncloa', 'value': '58'}, {'label': 'castilla', 'value': '59'}, {'label': 'nueva españa', 'value': '60'}, {'label': 'vicálvaro', 'value': '61'}, {'label': 'la chopera', 'value': '62'}, {'label': 'bellas vistas', 'value': '63'}, {'label': 'atocha', 'value': '64'}, {'label': 'salamanca', 'value': '65'}, {'label': 'ciutat vella', 'value': '225'}, {'label': 'neukölln', 'value': '226'}, {'label': \"dreta de l'eixample\", 'value': '227'}, {'label': 'kreuzberg', 'value': '228'}, {'label': 'pedralbes', 'value': '229'}, {'label': 'vila de gràcia', 'value': '230'}, {'label': 'rummelsburg', 'value': '231'}, {'label': \"l'antiga esquerra de l'eixample\", 'value': '232'}, {'label': 'sants-montjuïc', 'value': '233'}, {'label': 'el baix guinardó', 'value': '234'}]\n"
     ]
    }
   ],
   "source": [
    "#values =[(i[0],i[1]) for i in madrid_n.values]\n",
    "options=[{'label': i[0], 'value': str(i[1])} for i in madrid_n.values]\n",
    "#print(options[0]['label'])\n",
    "print(options)"
   ]
  },
  {
   "cell_type": "code",
   "execution_count": 22,
   "metadata": {},
   "outputs": [
    {
     "data": {
      "text/plain": [
       "[{'label': 'NEIGHBORHOOD_NAME', 'value': 'NEIGHBORHOOD_NAME'}]"
      ]
     },
     "execution_count": 22,
     "metadata": {},
     "output_type": "execute_result"
    }
   ],
   "source": [
    "options"
   ]
  },
  {
   "cell_type": "code",
   "execution_count": null,
   "metadata": {},
   "outputs": [],
   "source": []
  }
 ],
 "metadata": {
  "kernelspec": {
   "display_name": "Python 3",
   "language": "python",
   "name": "python3"
  },
  "language_info": {
   "codemirror_mode": {
    "name": "ipython",
    "version": 3
   },
   "file_extension": ".py",
   "mimetype": "text/x-python",
   "name": "python",
   "nbconvert_exporter": "python",
   "pygments_lexer": "ipython3",
   "version": "3.7.1"
  }
 },
 "nbformat": 4,
 "nbformat_minor": 2
}
