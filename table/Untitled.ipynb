{
 "cells": [
  {
   "cell_type": "code",
   "execution_count": 8,
   "metadata": {},
   "outputs": [],
   "source": [
    "import pandas as pd"
   ]
  },
  {
   "cell_type": "code",
   "execution_count": 37,
   "metadata": {},
   "outputs": [],
   "source": [
    "madrid_n =pd.read_csv('madrid.csv',sep=',')"
   ]
  },
  {
   "cell_type": "code",
   "execution_count": 42,
   "metadata": {},
   "outputs": [
    {
     "name": "stdout",
     "output_type": "stream",
     "text": [
      "[{'label': 'la latina', 'value': 'la latina'}, {'label': 'ciudad lineal', 'value': 'ciudad lineal'}, {'label': 'el trÃ©ntaiseis', 'value': 'el trÃ©ntaiseis'}, {'label': 'gaztambide', 'value': 'gaztambide'}, {'label': 'tetuÃ¡n', 'value': 'tetuÃ¡n'}, {'label': 'moncloa', 'value': 'moncloa'}, {'label': 'vila de grÃ\\xa0cia', 'value': 'vila de grÃ\\xa0cia'}, {'label': 'el baix guinardÃ³', 'value': 'el baix guinardÃ³'}, {'label': 'san blas', 'value': 'san blas'}, {'label': 'ciudad jardin', 'value': 'ciudad jardin'}, {'label': 'fuente del berro', 'value': 'fuente del berro'}, {'label': 'valdeacederas', 'value': 'valdeacederas'}, {'label': 'ibiza', 'value': 'ibiza'}, {'label': 'villa de vallecas', 'value': 'villa de vallecas'}, {'label': 'guindalera', 'value': 'guindalera'}, {'label': 'imperial', 'value': 'imperial'}, {'label': 'la chopera', 'value': 'la chopera'}, {'label': 'carabanchel', 'value': 'carabanchel'}, {'label': 'hispanoamÃ©rica', 'value': 'hispanoamÃ©rica'}, {'label': 'delicias', 'value': 'delicias'}, {'label': 'vallehermosa', 'value': 'vallehermosa'}, {'label': 'castilla', 'value': 'castilla'}, {'label': 'ciutat vella', 'value': 'ciutat vella'}, {'label': 'sants-montjuÃ¯c', 'value': 'sants-montjuÃ¯c'}, {'label': 'aluche', 'value': 'aluche'}, {'label': 'palos do moguer', 'value': 'palos do moguer'}, {'label': 'cuatro caminos', 'value': 'cuatro caminos'}, {'label': 'pacifico', 'value': 'pacifico'}, {'label': 'almenara', 'value': 'almenara'}, {'label': 'lista', 'value': 'lista'}, {'label': 'chamberÃ\\xad', 'value': 'chamberÃ\\xad'}, {'label': 'barajas', 'value': 'barajas'}, {'label': 'adelfas', 'value': 'adelfas'}, {'label': 'kreuzberg', 'value': 'kreuzberg'}, {'label': \"l'antiga esquerra de l'eixample\", 'value': \"l'antiga esquerra de l'eixample\"}, {'label': 'sol', 'value': 'sol'}, {'label': 'almagro', 'value': 'almagro'}, {'label': 'arapiles', 'value': 'arapiles'}, {'label': 'villaverde', 'value': 'villaverde'}, {'label': 'hortaleza', 'value': 'hortaleza'}, {'label': 'goya', 'value': 'goya'}, {'label': 'prosperidad', 'value': 'prosperidad'}, {'label': 'argÃ¼elles', 'value': 'argÃ¼elles'}, {'label': 'moratalaz', 'value': 'moratalaz'}, {'label': 'jerÃ³nimos', 'value': 'jerÃ³nimos'}, {'label': 'puente de vallecas', 'value': 'puente de vallecas'}, {'label': 'vicÃ¡lvaro', 'value': 'vicÃ¡lvaro'}, {'label': 'bellas vistas', 'value': 'bellas vistas'}, {'label': 'embajadores', 'value': 'embajadores'}, {'label': 'recoletos', 'value': 'recoletos'}, {'label': 'el viso', 'value': 'el viso'}, {'label': 'trafalgar', 'value': 'trafalgar'}, {'label': 'castellana', 'value': 'castellana'}, {'label': 'berruguete', 'value': 'berruguete'}, {'label': 'arganzuela', 'value': 'arganzuela'}, {'label': 'salamanca', 'value': 'salamanca'}, {'label': \"dreta de l'eixample\", 'value': \"dreta de l'eixample\"}, {'label': 'legazpi', 'value': 'legazpi'}, {'label': 'palacio', 'value': 'palacio'}, {'label': 'cortes', 'value': 'cortes'}, {'label': 'fuencarral-el pardo', 'value': 'fuencarral-el pardo'}, {'label': 'acacias', 'value': 'acacias'}, {'label': 'estrella', 'value': 'estrella'}, {'label': 'usera', 'value': 'usera'}, {'label': 'nueva espaÃ±a', 'value': 'nueva espaÃ±a'}, {'label': 'atocha', 'value': 'atocha'}, {'label': 'neukÃ¶lln', 'value': 'neukÃ¶lln'}, {'label': 'pedralbes', 'value': 'pedralbes'}, {'label': 'rummelsburg', 'value': 'rummelsburg'}, {'label': 'malasaÃ±a', 'value': 'malasaÃ±a'}, {'label': 'justicia', 'value': 'justicia'}, {'label': 'rios rosas', 'value': 'rios rosas'}, {'label': 'retiro', 'value': 'retiro'}, {'label': 'centro', 'value': 'centro'}, {'label': 'castillejos', 'value': 'castillejos'}]\n"
     ]
    }
   ],
   "source": [
    "#print(madrid_n)\n",
    "values =[i[0] for i in madrid_n.values]\n",
    "\n",
    "options=[{'label': i, 'value': i} for i in\n",
    "                              values]\n",
    "\n",
    "print(options)"
   ]
  },
  {
   "cell_type": "code",
   "execution_count": 36,
   "metadata": {
    "scrolled": false
   },
   "outputs": [
    {
     "name": "stdout",
     "output_type": "stream",
     "text": [
      "['embajadores']\n",
      "['aluche']\n",
      "['malasaÃ±a']\n",
      "['justicia']\n",
      "['legazpi']\n",
      "['sol']\n",
      "['palos do moguer']\n",
      "['san blas']\n",
      "['palacio']\n",
      "['cortes']\n",
      "['la latina']\n",
      "['recoletos']\n",
      "['cuatro caminos']\n",
      "['ciudad lineal']\n",
      "['almagro']\n",
      "['arapiles']\n",
      "['fuencarral-el pardo']\n",
      "['villaverde']\n",
      "['carabanchel']\n",
      "['hortaleza']\n",
      "['goya']\n",
      "['pacifico']\n",
      "['ciudad jardin']\n",
      "['almenara']\n",
      "['fuente del berro']\n",
      "['el trÃ©ntaiseis']\n",
      "['prosperidad']\n",
      "['acacias']\n",
      "['estrella']\n",
      "['el viso']\n",
      "['valdeacederas']\n",
      "['hispanoamÃ©rica']\n",
      "['argÃ¼elles']\n",
      "['lista']\n",
      "['trafalgar']\n",
      "['moratalaz']\n",
      "['jerÃ³nimos']\n",
      "['chamberÃ\\xad']\n",
      "['delicias']\n",
      "['gaztambide']\n",
      "['vallehermosa']\n",
      "['ibiza']\n",
      "['villa de vallecas']\n",
      "['rios rosas']\n",
      "['barajas']\n",
      "['guindalera']\n",
      "['usera']\n",
      "['retiro']\n",
      "['castellana']\n",
      "['berruguete']\n",
      "['puente de vallecas']\n",
      "['centro']\n",
      "['arganzuela']\n",
      "['adelfas']\n",
      "['castillejos']\n",
      "['imperial']\n",
      "['tetuÃ¡n']\n",
      "['moncloa']\n",
      "['castilla']\n",
      "['nueva espaÃ±a']\n",
      "['vicÃ¡lvaro']\n",
      "['la chopera']\n",
      "['bellas vistas']\n",
      "['atocha']\n",
      "['salamanca']\n",
      "['embajadores']\n",
      "['aluche']\n",
      "['malasaÃ±a']\n",
      "['justicia']\n",
      "['legazpi']\n",
      "['sol']\n",
      "['palos do moguer']\n",
      "['san blas']\n",
      "['palacio']\n",
      "['cortes']\n",
      "['la latina']\n",
      "['recoletos']\n",
      "['cuatro caminos']\n",
      "['ciudad lineal']\n",
      "['almagro']\n",
      "['arapiles']\n",
      "['fuencarral-el pardo']\n",
      "['villaverde']\n",
      "['carabanchel']\n",
      "['hortaleza']\n",
      "['pacifico']\n",
      "['ciudad jardin']\n",
      "['almenara']\n",
      "['el trÃ©ntaiseis']\n",
      "['prosperidad']\n",
      "['acacias']\n",
      "['estrella']\n",
      "['fuente del berro']\n",
      "['el viso']\n",
      "['goya']\n",
      "['hispanoamÃ©rica']\n",
      "['argÃ¼elles']\n",
      "['lista']\n",
      "['trafalgar']\n",
      "['chamberÃ\\xad']\n",
      "['moratalaz']\n",
      "['jerÃ³nimos']\n",
      "['delicias']\n",
      "['gaztambide']\n",
      "['vallehermosa']\n",
      "['ibiza']\n",
      "['villa de vallecas']\n",
      "['rios rosas']\n",
      "['barajas']\n",
      "['guindalera']\n",
      "['usera']\n",
      "['castellana']\n",
      "['berruguete']\n",
      "['puente de vallecas']\n",
      "['centro']\n",
      "['arganzuela']\n",
      "['adelfas']\n",
      "['ciutat vella']\n",
      "['castillejos']\n",
      "['imperial']\n",
      "['valdeacederas']\n",
      "['tetuÃ¡n']\n",
      "['moncloa']\n",
      "['castilla']\n",
      "['nueva espaÃ±a']\n",
      "['retiro']\n",
      "['vicÃ¡lvaro']\n",
      "['la chopera']\n",
      "['bellas vistas']\n",
      "['atocha']\n",
      "['neukÃ¶lln']\n",
      "[\"dreta de l'eixample\"]\n",
      "['kreuzberg']\n",
      "['pedralbes']\n",
      "['vila de grÃ\\xa0cia']\n",
      "['rummelsburg']\n",
      "[\"l'antiga esquerra de l'eixample\"]\n",
      "['sants-montjuÃ¯c']\n",
      "['salamanca']\n",
      "['el baix guinardÃ³']\n"
     ]
    }
   ],
   "source": [
    "for i in madrid_n.values:\n",
    "    print(i)\n",
    "    "
   ]
  },
  {
   "cell_type": "code",
   "execution_count": 22,
   "metadata": {},
   "outputs": [
    {
     "data": {
      "text/plain": [
       "[{'label': 'NEIGHBORHOOD_NAME', 'value': 'NEIGHBORHOOD_NAME'}]"
      ]
     },
     "execution_count": 22,
     "metadata": {},
     "output_type": "execute_result"
    }
   ],
   "source": [
    "options"
   ]
  },
  {
   "cell_type": "code",
   "execution_count": null,
   "metadata": {},
   "outputs": [],
   "source": []
  }
 ],
 "metadata": {
  "kernelspec": {
   "display_name": "Python 3",
   "language": "python",
   "name": "python3"
  },
  "language_info": {
   "codemirror_mode": {
    "name": "ipython",
    "version": 3
   },
   "file_extension": ".py",
   "mimetype": "text/x-python",
   "name": "python",
   "nbconvert_exporter": "python",
   "pygments_lexer": "ipython3",
   "version": "3.7.1"
  }
 },
 "nbformat": 4,
 "nbformat_minor": 2
}
