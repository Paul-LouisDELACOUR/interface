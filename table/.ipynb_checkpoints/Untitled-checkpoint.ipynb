{
 "cells": [
  {
   "cell_type": "code",
   "execution_count": 8,
   "metadata": {},
   "outputs": [],
   "source": [
    "import pandas as pd"
   ]
  },
  {
   "cell_type": "code",
   "execution_count": 58,
   "metadata": {},
   "outputs": [],
   "source": [
    "madrid_n =pd.read_csv('madrid.csv',sep=',')"
   ]
  },
  {
   "cell_type": "code",
   "execution_count": 61,
   "metadata": {},
   "outputs": [
    {
     "ename": "SyntaxError",
     "evalue": "invalid syntax (<ipython-input-61-012be5f2e052>, line 2)",
     "output_type": "error",
     "traceback": [
      "\u001b[0;36m  File \u001b[0;32m\"<ipython-input-61-012be5f2e052>\"\u001b[0;36m, line \u001b[0;32m2\u001b[0m\n\u001b[0;31m    values =[(i[0],str(i[1]) for i in madrid_n.values]\u001b[0m\n\u001b[0m                               ^\u001b[0m\n\u001b[0;31mSyntaxError\u001b[0m\u001b[0;31m:\u001b[0m invalid syntax\n"
     ]
    }
   ],
   "source": [
    "#print(madrid_n)\n",
    "values =[(i[0],str(i[1]) ) for i in madrid_n.values]\n",
    "\n",
    "\n",
    "print(options)"
   ]
  },
  {
   "cell_type": "code",
   "execution_count": 60,
   "metadata": {},
   "outputs": [
    {
     "name": "stdout",
     "output_type": "stream",
     "text": [
      "[{'label': 'embajadores', 'value': 'i[1]'}, {'label': 'aluche', 'value': 'i[1]'}, {'label': 'malasaña', 'value': 'i[1]'}, {'label': 'justicia', 'value': 'i[1]'}, {'label': 'legazpi', 'value': 'i[1]'}, {'label': 'sol', 'value': 'i[1]'}, {'label': 'palos do moguer', 'value': 'i[1]'}, {'label': 'san blas', 'value': 'i[1]'}, {'label': 'palacio', 'value': 'i[1]'}, {'label': 'cortes', 'value': 'i[1]'}, {'label': 'la latina', 'value': 'i[1]'}, {'label': 'recoletos', 'value': 'i[1]'}, {'label': 'cuatro caminos', 'value': 'i[1]'}, {'label': 'ciudad lineal', 'value': 'i[1]'}, {'label': 'almagro', 'value': 'i[1]'}, {'label': 'arapiles', 'value': 'i[1]'}, {'label': 'fuencarral-el pardo', 'value': 'i[1]'}, {'label': 'villaverde', 'value': 'i[1]'}, {'label': 'carabanchel', 'value': 'i[1]'}, {'label': 'hortaleza', 'value': 'i[1]'}, {'label': 'goya', 'value': 'i[1]'}, {'label': 'pacifico', 'value': 'i[1]'}, {'label': 'ciudad jardin', 'value': 'i[1]'}, {'label': 'almenara', 'value': 'i[1]'}, {'label': 'fuente del berro', 'value': 'i[1]'}, {'label': 'el tréntaiseis', 'value': 'i[1]'}, {'label': 'prosperidad', 'value': 'i[1]'}, {'label': 'acacias', 'value': 'i[1]'}, {'label': 'estrella', 'value': 'i[1]'}, {'label': 'el viso', 'value': 'i[1]'}, {'label': 'valdeacederas', 'value': 'i[1]'}, {'label': 'hispanoamérica', 'value': 'i[1]'}, {'label': 'argüelles', 'value': 'i[1]'}, {'label': 'lista', 'value': 'i[1]'}, {'label': 'trafalgar', 'value': 'i[1]'}, {'label': 'moratalaz', 'value': 'i[1]'}, {'label': 'jerónimos', 'value': 'i[1]'}, {'label': 'chamberí', 'value': 'i[1]'}, {'label': 'delicias', 'value': 'i[1]'}, {'label': 'gaztambide', 'value': 'i[1]'}, {'label': 'vallehermosa', 'value': 'i[1]'}, {'label': 'ibiza', 'value': 'i[1]'}, {'label': 'villa de vallecas', 'value': 'i[1]'}, {'label': 'rios rosas', 'value': 'i[1]'}, {'label': 'barajas', 'value': 'i[1]'}, {'label': 'guindalera', 'value': 'i[1]'}, {'label': 'usera', 'value': 'i[1]'}, {'label': 'retiro', 'value': 'i[1]'}, {'label': 'castellana', 'value': 'i[1]'}, {'label': 'berruguete', 'value': 'i[1]'}, {'label': 'puente de vallecas', 'value': 'i[1]'}, {'label': 'centro', 'value': 'i[1]'}, {'label': 'arganzuela', 'value': 'i[1]'}, {'label': 'adelfas', 'value': 'i[1]'}, {'label': 'castillejos', 'value': 'i[1]'}, {'label': 'imperial', 'value': 'i[1]'}, {'label': 'tetuán', 'value': 'i[1]'}, {'label': 'moncloa', 'value': 'i[1]'}, {'label': 'castilla', 'value': 'i[1]'}, {'label': 'nueva españa', 'value': 'i[1]'}, {'label': 'vicálvaro', 'value': 'i[1]'}, {'label': 'la chopera', 'value': 'i[1]'}, {'label': 'bellas vistas', 'value': 'i[1]'}, {'label': 'atocha', 'value': 'i[1]'}, {'label': 'salamanca', 'value': 'i[1]'}, {'label': 'ciutat vella', 'value': 'i[1]'}, {'label': 'neukölln', 'value': 'i[1]'}, {'label': \"dreta de l'eixample\", 'value': 'i[1]'}, {'label': 'kreuzberg', 'value': 'i[1]'}, {'label': 'pedralbes', 'value': 'i[1]'}, {'label': 'vila de gràcia', 'value': 'i[1]'}, {'label': 'rummelsburg', 'value': 'i[1]'}, {'label': \"l'antiga esquerra de l'eixample\", 'value': 'i[1]'}, {'label': 'sants-montjuïc', 'value': 'i[1]'}, {'label': 'el baix guinardó', 'value': 'i[1]'}]\n"
     ]
    }
   ],
   "source": [
    "#values =[(i[0],i[1]) for i in madrid_n.values]\n",
    "options=[{'label': i[0], 'value': i[1]} for i in madrid_n.values]\n",
    "print(options)"
   ]
  },
  {
   "cell_type": "code",
   "execution_count": 22,
   "metadata": {},
   "outputs": [
    {
     "data": {
      "text/plain": [
       "[{'label': 'NEIGHBORHOOD_NAME', 'value': 'NEIGHBORHOOD_NAME'}]"
      ]
     },
     "execution_count": 22,
     "metadata": {},
     "output_type": "execute_result"
    }
   ],
   "source": [
    "options"
   ]
  },
  {
   "cell_type": "code",
   "execution_count": null,
   "metadata": {},
   "outputs": [],
   "source": []
  }
 ],
 "metadata": {
  "kernelspec": {
   "display_name": "Python 3",
   "language": "python",
   "name": "python3"
  },
  "language_info": {
   "codemirror_mode": {
    "name": "ipython",
    "version": 3
   },
   "file_extension": ".py",
   "mimetype": "text/x-python",
   "name": "python",
   "nbconvert_exporter": "python",
   "pygments_lexer": "ipython3",
   "version": "3.7.1"
  }
 },
 "nbformat": 4,
 "nbformat_minor": 2
}
